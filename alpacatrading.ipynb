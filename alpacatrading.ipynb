{
 "metadata": {
  "language_info": {
   "codemirror_mode": {
    "name": "ipython",
    "version": 3
   },
   "file_extension": ".py",
   "mimetype": "text/x-python",
   "name": "python",
   "nbconvert_exporter": "python",
   "pygments_lexer": "ipython3",
   "version": "3.8.5-final"
  },
  "orig_nbformat": 2,
  "kernelspec": {
   "name": "python3",
   "display_name": "Python 3",
   "language": "python"
  }
 },
 "nbformat": 4,
 "nbformat_minor": 2,
 "cells": [
  {
   "cell_type": "code",
   "execution_count": 6,
   "metadata": {},
   "outputs": [],
   "source": [
    "import yfinance as yf\n",
    "import pandas as pd"
   ]
  },
  {
   "cell_type": "code",
   "execution_count": 2,
   "metadata": {},
   "outputs": [],
   "source": [
    "google = yf.Ticker(\"GOOG\")"
   ]
  },
  {
   "cell_type": "code",
   "execution_count": 3,
   "metadata": {},
   "outputs": [
    {
     "output_type": "execute_result",
     "data": {
      "text/plain": [
       "                                  Open         High          Low        Close  \\\n",
       "Datetime                                                                        \n",
       "2021-01-21 09:30:00-05:00  1898.000000  1901.609985  1898.000000  1901.280029   \n",
       "2021-01-21 09:31:00-05:00  1900.560059  1904.109985  1899.310059  1903.560059   \n",
       "2021-01-21 09:32:00-05:00  1903.920044  1908.454956  1903.920044  1904.520142   \n",
       "2021-01-21 09:33:00-05:00  1908.030029  1909.599976  1905.765015  1906.010010   \n",
       "2021-01-21 09:34:00-05:00  1906.979980  1909.619995  1904.540039  1909.619995   \n",
       "\n",
       "                           Volume  Dividends  Stock Splits  \n",
       "Datetime                                                    \n",
       "2021-01-21 09:30:00-05:00   56173          0             0  \n",
       "2021-01-21 09:31:00-05:00    9189          0             0  \n",
       "2021-01-21 09:32:00-05:00   10743          0             0  \n",
       "2021-01-21 09:33:00-05:00   26064          0             0  \n",
       "2021-01-21 09:34:00-05:00   13867          0             0  "
      ],
      "text/html": "<div>\n<style scoped>\n    .dataframe tbody tr th:only-of-type {\n        vertical-align: middle;\n    }\n\n    .dataframe tbody tr th {\n        vertical-align: top;\n    }\n\n    .dataframe thead th {\n        text-align: right;\n    }\n</style>\n<table border=\"1\" class=\"dataframe\">\n  <thead>\n    <tr style=\"text-align: right;\">\n      <th></th>\n      <th>Open</th>\n      <th>High</th>\n      <th>Low</th>\n      <th>Close</th>\n      <th>Volume</th>\n      <th>Dividends</th>\n      <th>Stock Splits</th>\n    </tr>\n    <tr>\n      <th>Datetime</th>\n      <th></th>\n      <th></th>\n      <th></th>\n      <th></th>\n      <th></th>\n      <th></th>\n      <th></th>\n    </tr>\n  </thead>\n  <tbody>\n    <tr>\n      <th>2021-01-21 09:30:00-05:00</th>\n      <td>1898.000000</td>\n      <td>1901.609985</td>\n      <td>1898.000000</td>\n      <td>1901.280029</td>\n      <td>56173</td>\n      <td>0</td>\n      <td>0</td>\n    </tr>\n    <tr>\n      <th>2021-01-21 09:31:00-05:00</th>\n      <td>1900.560059</td>\n      <td>1904.109985</td>\n      <td>1899.310059</td>\n      <td>1903.560059</td>\n      <td>9189</td>\n      <td>0</td>\n      <td>0</td>\n    </tr>\n    <tr>\n      <th>2021-01-21 09:32:00-05:00</th>\n      <td>1903.920044</td>\n      <td>1908.454956</td>\n      <td>1903.920044</td>\n      <td>1904.520142</td>\n      <td>10743</td>\n      <td>0</td>\n      <td>0</td>\n    </tr>\n    <tr>\n      <th>2021-01-21 09:33:00-05:00</th>\n      <td>1908.030029</td>\n      <td>1909.599976</td>\n      <td>1905.765015</td>\n      <td>1906.010010</td>\n      <td>26064</td>\n      <td>0</td>\n      <td>0</td>\n    </tr>\n    <tr>\n      <th>2021-01-21 09:34:00-05:00</th>\n      <td>1906.979980</td>\n      <td>1909.619995</td>\n      <td>1904.540039</td>\n      <td>1909.619995</td>\n      <td>13867</td>\n      <td>0</td>\n      <td>0</td>\n    </tr>\n  </tbody>\n</table>\n</div>"
     },
     "metadata": {},
     "execution_count": 3
    }
   ],
   "source": [
    "df = google.history(period='1d', interval='1m')\n",
    "df.head()"
   ]
  },
  {
   "cell_type": "code",
   "execution_count": 4,
   "metadata": {},
   "outputs": [
    {
     "output_type": "execute_result",
     "data": {
      "text/plain": [
       "                                   Low\n",
       "Datetime                              \n",
       "2021-01-21 09:30:00-05:00  1898.000000\n",
       "2021-01-21 09:31:00-05:00  1899.310059\n",
       "2021-01-21 09:32:00-05:00  1903.920044\n",
       "2021-01-21 09:33:00-05:00  1905.765015\n",
       "2021-01-21 09:34:00-05:00  1904.540039\n",
       "...                                ...\n",
       "2021-01-21 13:35:00-05:00  1897.060059\n",
       "2021-01-21 13:36:00-05:00  1896.785034\n",
       "2021-01-21 13:37:00-05:00  1897.199951\n",
       "2021-01-21 13:38:00-05:00  1896.709961\n",
       "2021-01-21 13:39:44-05:00  1897.344971\n",
       "\n",
       "[248 rows x 1 columns]"
      ],
      "text/html": "<div>\n<style scoped>\n    .dataframe tbody tr th:only-of-type {\n        vertical-align: middle;\n    }\n\n    .dataframe tbody tr th {\n        vertical-align: top;\n    }\n\n    .dataframe thead th {\n        text-align: right;\n    }\n</style>\n<table border=\"1\" class=\"dataframe\">\n  <thead>\n    <tr style=\"text-align: right;\">\n      <th></th>\n      <th>Low</th>\n    </tr>\n    <tr>\n      <th>Datetime</th>\n      <th></th>\n    </tr>\n  </thead>\n  <tbody>\n    <tr>\n      <th>2021-01-21 09:30:00-05:00</th>\n      <td>1898.000000</td>\n    </tr>\n    <tr>\n      <th>2021-01-21 09:31:00-05:00</th>\n      <td>1899.310059</td>\n    </tr>\n    <tr>\n      <th>2021-01-21 09:32:00-05:00</th>\n      <td>1903.920044</td>\n    </tr>\n    <tr>\n      <th>2021-01-21 09:33:00-05:00</th>\n      <td>1905.765015</td>\n    </tr>\n    <tr>\n      <th>2021-01-21 09:34:00-05:00</th>\n      <td>1904.540039</td>\n    </tr>\n    <tr>\n      <th>...</th>\n      <td>...</td>\n    </tr>\n    <tr>\n      <th>2021-01-21 13:35:00-05:00</th>\n      <td>1897.060059</td>\n    </tr>\n    <tr>\n      <th>2021-01-21 13:36:00-05:00</th>\n      <td>1896.785034</td>\n    </tr>\n    <tr>\n      <th>2021-01-21 13:37:00-05:00</th>\n      <td>1897.199951</td>\n    </tr>\n    <tr>\n      <th>2021-01-21 13:38:00-05:00</th>\n      <td>1896.709961</td>\n    </tr>\n    <tr>\n      <th>2021-01-21 13:39:44-05:00</th>\n      <td>1897.344971</td>\n    </tr>\n  </tbody>\n</table>\n<p>248 rows × 1 columns</p>\n</div>"
     },
     "metadata": {},
     "execution_count": 4
    }
   ],
   "source": [
    "df[['Low']]"
   ]
  },
  {
   "cell_type": "code",
   "execution_count": 8,
   "metadata": {},
   "outputs": [
    {
     "output_type": "execute_result",
     "data": {
      "text/plain": [
       "                 Open         High          Low        Close  Volume  \\\n",
       "date                                                                   \n",
       "09:30:00  1898.000000  1901.609985  1898.000000  1901.280029   56173   \n",
       "09:31:00  1900.560059  1904.109985  1899.310059  1903.560059    9189   \n",
       "09:32:00  1903.920044  1908.454956  1903.920044  1904.520142   10743   \n",
       "09:33:00  1908.030029  1909.599976  1905.765015  1906.010010   26064   \n",
       "09:34:00  1906.979980  1909.619995  1904.540039  1909.619995   13867   \n",
       "\n",
       "          Dividends  Stock Splits  \n",
       "date                               \n",
       "09:30:00          0             0  \n",
       "09:31:00          0             0  \n",
       "09:32:00          0             0  \n",
       "09:33:00          0             0  \n",
       "09:34:00          0             0  "
      ],
      "text/html": "<div>\n<style scoped>\n    .dataframe tbody tr th:only-of-type {\n        vertical-align: middle;\n    }\n\n    .dataframe tbody tr th {\n        vertical-align: top;\n    }\n\n    .dataframe thead th {\n        text-align: right;\n    }\n</style>\n<table border=\"1\" class=\"dataframe\">\n  <thead>\n    <tr style=\"text-align: right;\">\n      <th></th>\n      <th>Open</th>\n      <th>High</th>\n      <th>Low</th>\n      <th>Close</th>\n      <th>Volume</th>\n      <th>Dividends</th>\n      <th>Stock Splits</th>\n    </tr>\n    <tr>\n      <th>date</th>\n      <th></th>\n      <th></th>\n      <th></th>\n      <th></th>\n      <th></th>\n      <th></th>\n      <th></th>\n    </tr>\n  </thead>\n  <tbody>\n    <tr>\n      <th>09:30:00</th>\n      <td>1898.000000</td>\n      <td>1901.609985</td>\n      <td>1898.000000</td>\n      <td>1901.280029</td>\n      <td>56173</td>\n      <td>0</td>\n      <td>0</td>\n    </tr>\n    <tr>\n      <th>09:31:00</th>\n      <td>1900.560059</td>\n      <td>1904.109985</td>\n      <td>1899.310059</td>\n      <td>1903.560059</td>\n      <td>9189</td>\n      <td>0</td>\n      <td>0</td>\n    </tr>\n    <tr>\n      <th>09:32:00</th>\n      <td>1903.920044</td>\n      <td>1908.454956</td>\n      <td>1903.920044</td>\n      <td>1904.520142</td>\n      <td>10743</td>\n      <td>0</td>\n      <td>0</td>\n    </tr>\n    <tr>\n      <th>09:33:00</th>\n      <td>1908.030029</td>\n      <td>1909.599976</td>\n      <td>1905.765015</td>\n      <td>1906.010010</td>\n      <td>26064</td>\n      <td>0</td>\n      <td>0</td>\n    </tr>\n    <tr>\n      <th>09:34:00</th>\n      <td>1906.979980</td>\n      <td>1909.619995</td>\n      <td>1904.540039</td>\n      <td>1909.619995</td>\n      <td>13867</td>\n      <td>0</td>\n      <td>0</td>\n    </tr>\n  </tbody>\n</table>\n</div>"
     },
     "metadata": {},
     "execution_count": 8
    }
   ],
   "source": [
    "df['date'] = pd.to_datetime(df.index).time\n",
    "df.set_index('date', inplace=True)\n",
    "df.head()"
   ]
  },
  {
   "cell_type": "code",
   "execution_count": null,
   "metadata": {},
   "outputs": [],
   "source": []
  }
 ]
}